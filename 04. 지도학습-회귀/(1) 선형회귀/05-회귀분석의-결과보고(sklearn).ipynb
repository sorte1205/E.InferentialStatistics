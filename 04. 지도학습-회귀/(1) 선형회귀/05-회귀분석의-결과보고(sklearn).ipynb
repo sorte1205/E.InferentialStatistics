{
 "cells": [
  {
   "cell_type": "markdown",
   "metadata": {},
   "source": [
    "# 회귀분석의 결과 보고 (sklearn)\n",
    "\n",
    "## #01. 준비작업\n",
    "\n",
    "### [1] 패키지 참조"
   ]
  },
  {
   "cell_type": "code",
   "execution_count": 1,
   "metadata": {},
   "outputs": [],
   "source": [
    "import warnings\n",
    "warnings.filterwarnings(action='ignore')\n",
    "\n",
    "import sys\n",
    "import numpy as np\n",
    "import seaborn as sb\n",
    "from matplotlib import pyplot as plt\n",
    "from pandas import read_excel, DataFrame\n",
    "from tabulate import tabulate\n",
    "\n",
    "from sklearn.linear_model import LinearRegression\n",
    "from sklearn.preprocessing import StandardScaler\n",
    "\n",
    "# 성능 평가 지표 모듈\n",
    "from sklearn.metrics import r2_score, mean_absolute_error, mean_squared_error\n",
    "from scipy.stats import t, f\n",
    "from statsmodels.stats.outliers_influence import variance_inflation_factor\n",
    "from statsmodels.stats.stattools import durbin_watson"
   ]
  },
  {
   "cell_type": "markdown",
   "metadata": {},
   "source": [
    "### [2] 그래프 초기화"
   ]
  },
  {
   "cell_type": "code",
   "execution_count": 2,
   "metadata": {},
   "outputs": [],
   "source": [
    "plt.rcParams[\"font.family\"] = 'AppleGothic' if sys.platform == 'darwin' else 'Malgun Gothic'\n",
    "plt.rcParams[\"font.size\"] = 9\n",
    "plt.rcParams[\"figure.figsize\"] = (15, 6)\n",
    "plt.rcParams[\"figure.dpi\"] = 200\n",
    "plt.rcParams[\"axes.unicode_minus\"] = False"
   ]
  },
  {
   "cell_type": "markdown",
   "metadata": {},
   "source": [
    "### [3] 데이터 가져오기"
   ]
  },
  {
   "cell_type": "code",
   "execution_count": 3,
   "metadata": {},
   "outputs": [
    {
     "name": "stdout",
     "output_type": "stream",
     "text": [
      "<class 'pandas.core.frame.DataFrame'>\n",
      "RangeIndex: 56 entries, 0 to 55\n",
      "Data columns (total 4 columns):\n",
      " #   Column  Non-Null Count  Dtype  \n",
      "---  ------  --------------  -----  \n",
      " 0   길이      56 non-null     float64\n",
      " 1   높이      56 non-null     float64\n",
      " 2   두께      56 non-null     float64\n",
      " 3   무게      56 non-null     float64\n",
      "dtypes: float64(4)\n",
      "memory usage: 1.9 KB\n",
      "None\n"
     ]
    },
    {
     "data": {
      "text/html": [
       "<div>\n",
       "<style scoped>\n",
       "    .dataframe tbody tr th:only-of-type {\n",
       "        vertical-align: middle;\n",
       "    }\n",
       "\n",
       "    .dataframe tbody tr th {\n",
       "        vertical-align: top;\n",
       "    }\n",
       "\n",
       "    .dataframe thead th {\n",
       "        text-align: right;\n",
       "    }\n",
       "</style>\n",
       "<table border=\"1\" class=\"dataframe\">\n",
       "  <thead>\n",
       "    <tr style=\"text-align: right;\">\n",
       "      <th></th>\n",
       "      <th>길이</th>\n",
       "      <th>높이</th>\n",
       "      <th>두께</th>\n",
       "      <th>무게</th>\n",
       "    </tr>\n",
       "  </thead>\n",
       "  <tbody>\n",
       "    <tr>\n",
       "      <th>0</th>\n",
       "      <td>8.4</td>\n",
       "      <td>2.11</td>\n",
       "      <td>1.41</td>\n",
       "      <td>5.9</td>\n",
       "    </tr>\n",
       "    <tr>\n",
       "      <th>1</th>\n",
       "      <td>13.7</td>\n",
       "      <td>3.53</td>\n",
       "      <td>2.00</td>\n",
       "      <td>32.0</td>\n",
       "    </tr>\n",
       "    <tr>\n",
       "      <th>2</th>\n",
       "      <td>15.0</td>\n",
       "      <td>3.82</td>\n",
       "      <td>2.43</td>\n",
       "      <td>40.0</td>\n",
       "    </tr>\n",
       "    <tr>\n",
       "      <th>3</th>\n",
       "      <td>16.2</td>\n",
       "      <td>4.59</td>\n",
       "      <td>2.63</td>\n",
       "      <td>51.5</td>\n",
       "    </tr>\n",
       "    <tr>\n",
       "      <th>4</th>\n",
       "      <td>17.4</td>\n",
       "      <td>4.59</td>\n",
       "      <td>2.94</td>\n",
       "      <td>70.0</td>\n",
       "    </tr>\n",
       "  </tbody>\n",
       "</table>\n",
       "</div>"
      ],
      "text/plain": [
       "     길이    높이    두께    무게\n",
       "0   8.4  2.11  1.41   5.9\n",
       "1  13.7  3.53  2.00  32.0\n",
       "2  15.0  3.82  2.43  40.0\n",
       "3  16.2  4.59  2.63  51.5\n",
       "4  17.4  4.59  2.94  70.0"
      ]
     },
     "execution_count": 3,
     "metadata": {},
     "output_type": "execute_result"
    }
   ],
   "source": [
    "origin = read_excel(\"https://data.hossam.kr/mldata/fish.xlsx\")\n",
    "print(origin.info())\n",
    "origin.head()"
   ]
  },
  {
   "cell_type": "markdown",
   "metadata": {},
   "source": [
    "## #02. 데이터 전처리\n",
    "\n",
    "### [1] 독립변수(들)의 이름과 종속변수의 이름을 변수에 저장"
   ]
  },
  {
   "cell_type": "code",
   "execution_count": 4,
   "metadata": {},
   "outputs": [],
   "source": [
    "yname = '무게'\n",
    "xnames = list(origin.drop(yname, axis=1).columns)"
   ]
  },
  {
   "cell_type": "markdown",
   "metadata": {},
   "source": [
    "### [2] 독립변수와 종속변수 분리\n",
    "\n",
    "이전 예제와 동일한 결과를 만들기 위해 훈련/검증 데이터의 분할은 수행하지 않음"
   ]
  },
  {
   "cell_type": "code",
   "execution_count": 5,
   "metadata": {},
   "outputs": [],
   "source": [
    "x = origin[xnames]   # 독립변수는 데이터 프레임 형태로 분리\n",
    "y = origin[yname]    # 종속변수는 시리즈 형태로 분리"
   ]
  },
  {
   "cell_type": "markdown",
   "metadata": {},
   "source": [
    "## #03. 회귀분석\n",
    "\n",
    "훈련/검증 데이터를 나누지 않았으므로 검증데이터에 대한 설명력은 얻을 수 없다."
   ]
  },
  {
   "cell_type": "code",
   "execution_count": 6,
   "metadata": {},
   "outputs": [
    {
     "name": "stdout",
     "output_type": "stream",
     "text": [
      "무게 = 2.908 * 길이 + 67.205 * 높이 + 67.260 * 두께 + -546.440\n",
      "+-------------------------------+--------------+\n",
      "|                               |   훈련데이터 |\n",
      "|-------------------------------+--------------|\n",
      "| 결정계수(R2)                  |     0.942303 |\n",
      "| 평균절대오차(MAE)             |    62.5758   |\n",
      "| 평균제곱오차(MSE)             |  6847.54     |\n",
      "| 평균오차(RMSE)                |    82.7499   |\n",
      "| 평균 절대 백분오차 비율(MAPE) |   124.554    |\n",
      "| 평균 비율 오차(MPE)           |    97.1079   |\n",
      "+-------------------------------+--------------+\n",
      "\n"
     ]
    },
    {
     "data": {
      "image/png": "[encoded data removed]",
      "text/plain": [
       "<Figure size 1000x1200 with 3 Axes>"
      ]
     },
     "metadata": {},
     "output_type": "display_data"
    }
   ],
   "source": [
    "xnames = x.columns\n",
    "size = len(xnames)\n",
    "\n",
    "# 분석모델 생성\n",
    "model = LinearRegression()\n",
    "fit = model.fit(x, y)\n",
    "\n",
    "# 회귀식\n",
    "expr = \"{yname} = \".format(yname=yname)\n",
    "\n",
    "for i, v in enumerate(xnames):\n",
    "    expr += \"%0.3f * %s + \" % (fit.coef_[i], v)\n",
    "\n",
    "expr += \"%0.3f\" % fit.intercept_\n",
    "print(expr)\n",
    "\n",
    "# 추정치 생성\n",
    "y_pred = fit.predict(x)\n",
    "\n",
    "# 성능평가\n",
    "result1 = {\n",
    "    \"결정계수(R2)\": r2_score(y, y_pred),\n",
    "    \"평균절대오차(MAE)\": mean_absolute_error(y, y_pred),\n",
    "    \"평균제곱오차(MSE)\": mean_squared_error(y, y_pred),\n",
    "    \"평균오차(RMSE)\": np.sqrt(mean_squared_error(y, y_pred)),\n",
    "    \"평균 절대 백분오차 비율(MAPE)\": np.mean(np.abs((y - y_pred) / y) * 100),\n",
    "    \"평균 비율 오차(MPE)\": np.mean((y - y_pred) / y * 100)\n",
    "}\n",
    "\n",
    "result_df = DataFrame([result1], index=[\"훈련데이터\"])\n",
    "print(tabulate(result_df.T, headers='keys', tablefmt='psql', showindex=True), end=\"\\n\\n\")\n",
    "\n",
    "\n",
    "# 시각화\n",
    "fig, ax = plt.subplots(len(xnames), 1, figsize=(10, 4*size), dpi=100)\n",
    "fig.subplots_adjust(hspace=0.3)\n",
    "\n",
    "for i, v in enumerate(xnames):\n",
    "    sb.regplot(x=x[v], y=y, ci=95, ax=ax[i], label='관측치')\n",
    "    sb.regplot(x=x[v], y=y_pred, ci=0, ax=ax[i], label='추정치')\n",
    "    ax[i].set_title(f\"훈련데이터: {yname} vs {v}\")\n",
    "    ax[i].legend()\n",
    "    ax[i].grid(True)\n",
    "\n",
    "plt.show()\n",
    "plt.close()"
   ]
  },
  {
   "cell_type": "markdown",
   "metadata": {},
   "source": [
    "## #04. 결과보고\n",
    "\n",
    "### [1] 통계량과 p-value\n",
    "\n",
    "#### (1) 절편과 계수를 하나의 배열로 결합"
   ]
  },
  {
   "cell_type": "code",
   "execution_count": 7,
   "metadata": {},
   "outputs": [
    {
     "data": {
      "text/plain": [
       "array([-546.43979144,    2.9082713 ,   67.20469902,   67.26029602])"
      ]
     },
     "execution_count": 7,
     "metadata": {},
     "output_type": "execute_result"
    }
   ],
   "source": [
    "params = np.append(fit.intercept_, fit.coef_)\n",
    "params"
   ]
  },
  {
   "cell_type": "markdown",
   "metadata": {},
   "source": [
    "#### (2) 독립변수에 상수항 추가하기"
   ]
  },
  {
   "cell_type": "code",
   "execution_count": 8,
   "metadata": {},
   "outputs": [
    {
     "data": {
      "text/html": [
       "<div>\n",
       "<style scoped>\n",
       "    .dataframe tbody tr th:only-of-type {\n",
       "        vertical-align: middle;\n",
       "    }\n",
       "\n",
       "    .dataframe tbody tr th {\n",
       "        vertical-align: top;\n",
       "    }\n",
       "\n",
       "    .dataframe thead th {\n",
       "        text-align: right;\n",
       "    }\n",
       "</style>\n",
       "<table border=\"1\" class=\"dataframe\">\n",
       "  <thead>\n",
       "    <tr style=\"text-align: right;\">\n",
       "      <th></th>\n",
       "      <th>상수</th>\n",
       "      <th>길이</th>\n",
       "      <th>높이</th>\n",
       "      <th>두께</th>\n",
       "    </tr>\n",
       "  </thead>\n",
       "  <tbody>\n",
       "    <tr>\n",
       "      <th>0</th>\n",
       "      <td>1</td>\n",
       "      <td>8.4</td>\n",
       "      <td>2.11</td>\n",
       "      <td>1.41</td>\n",
       "    </tr>\n",
       "    <tr>\n",
       "      <th>1</th>\n",
       "      <td>1</td>\n",
       "      <td>13.7</td>\n",
       "      <td>3.53</td>\n",
       "      <td>2.00</td>\n",
       "    </tr>\n",
       "    <tr>\n",
       "      <th>2</th>\n",
       "      <td>1</td>\n",
       "      <td>15.0</td>\n",
       "      <td>3.82</td>\n",
       "      <td>2.43</td>\n",
       "    </tr>\n",
       "    <tr>\n",
       "      <th>3</th>\n",
       "      <td>1</td>\n",
       "      <td>16.2</td>\n",
       "      <td>4.59</td>\n",
       "      <td>2.63</td>\n",
       "    </tr>\n",
       "    <tr>\n",
       "      <th>4</th>\n",
       "      <td>1</td>\n",
       "      <td>17.4</td>\n",
       "      <td>4.59</td>\n",
       "      <td>2.94</td>\n",
       "    </tr>\n",
       "  </tbody>\n",
       "</table>\n",
       "</div>"
      ],
      "text/plain": [
       "   상수    길이    높이    두께\n",
       "0   1   8.4  2.11  1.41\n",
       "1   1  13.7  3.53  2.00\n",
       "2   1  15.0  3.82  2.43\n",
       "3   1  16.2  4.59  2.63\n",
       "4   1  17.4  4.59  2.94"
      ]
     },
     "execution_count": 8,
     "metadata": {},
     "output_type": "execute_result"
    }
   ],
   "source": [
    "designX = x.copy()\n",
    "\n",
    "# 0번째 필드에 '상수'라는 이름의 컬럼을 추가하고 값은 1로 설정함\n",
    "designX.insert(0, '상수', 1)\n",
    "\n",
    "designX.head()"
   ]
  },
  {
   "cell_type": "markdown",
   "metadata": {},
   "source": [
    "#### (3) 행렬곱 구하기"
   ]
  },
  {
   "cell_type": "code",
   "execution_count": 9,
   "metadata": {},
   "outputs": [
    {
     "data": {
      "text/plain": [
       "array([[   56.    ,  1562.    ,   440.28  ,   265.75  ],\n",
       "       [ 1562.    , 48045.12  , 13688.339 ,  8270.876 ],\n",
       "       [  440.28  , 13688.339 ,  3917.2114,  2365.5425],\n",
       "       [  265.75  ,  8270.876 ,  2365.5425,  1434.4117]])"
      ]
     },
     "execution_count": 9,
     "metadata": {},
     "output_type": "execute_result"
    }
   ],
   "source": [
    "dot = np.dot(designX.T,designX)\n",
    "dot"
   ]
  },
  {
   "cell_type": "markdown",
   "metadata": {},
   "source": [
    "#### (4) 행렬곱의 역행렬"
   ]
  },
  {
   "cell_type": "code",
   "execution_count": 10,
   "metadata": {},
   "outputs": [
    {
     "data": {
      "text/plain": [
       "array([[ 0.25997581, -0.02937614,  0.05587393,  0.02907514],\n",
       "       [-0.02937614,  0.00811062, -0.0207489 , -0.00710593],\n",
       "       [ 0.05587393, -0.0207489 ,  0.11758923, -0.08463348],\n",
       "       [ 0.02907514, -0.00710593, -0.08463348,  0.17585582]])"
      ]
     },
     "execution_count": 10,
     "metadata": {},
     "output_type": "execute_result"
    }
   ],
   "source": [
    "inv = np.linalg.inv(dot)\n",
    "inv"
   ]
  },
  {
   "cell_type": "markdown",
   "metadata": {},
   "source": [
    "#### (5) 역행렬의 대각선 반환"
   ]
  },
  {
   "cell_type": "code",
   "execution_count": 11,
   "metadata": {},
   "outputs": [
    {
     "data": {
      "text/plain": [
       "array([0.25997581, 0.00811062, 0.11758923, 0.17585582])"
      ]
     },
     "execution_count": 11,
     "metadata": {},
     "output_type": "execute_result"
    }
   ],
   "source": [
    "dia = inv.diagonal()\n",
    "dia"
   ]
  },
  {
   "cell_type": "markdown",
   "metadata": {},
   "source": [
    "#### (6) 평균 제곱오차 구하기\n",
    "\n",
    "sklearn의 API는 상수항이 고려되지 않은 MSE 구한다.\n",
    "\n",
    "상수항이 적용된 경우이므로 API를 통한 값이 아닌 직접 구한 값이 필요하다"
   ]
  },
  {
   "cell_type": "code",
   "execution_count": 12,
   "metadata": {},
   "outputs": [
    {
     "data": {
      "text/plain": [
       "7374.273394715794"
      ]
     },
     "execution_count": 12,
     "metadata": {},
     "output_type": "execute_result"
    }
   ],
   "source": [
    "predictions = fit.predict(x)\n",
    "MSE = (sum((y-predictions)**2)) / (len(designX)-len(designX.iloc[0]))\n",
    "MSE"
   ]
  },
  {
   "cell_type": "markdown",
   "metadata": {},
   "source": [
    "#### (7) 표준오차"
   ]
  },
  {
   "cell_type": "code",
   "execution_count": 13,
   "metadata": {},
   "outputs": [
    {
     "data": {
      "text/plain": [
       "array([43.78507388,  7.73368804, 29.44715768, 36.0112326 ])"
      ]
     },
     "execution_count": 13,
     "metadata": {},
     "output_type": "execute_result"
    }
   ],
   "source": [
    "se_b = np.sqrt(MSE * dia)\n",
    "se_b"
   ]
  },
  {
   "cell_type": "markdown",
   "metadata": {},
   "source": [
    "#### (8) t-value 구하기"
   ]
  },
  {
   "cell_type": "code",
   "execution_count": 14,
   "metadata": {},
   "outputs": [
    {
     "data": {
      "text/plain": [
       "array([-12.48004726,   0.37605232,   2.28221344,   1.86775878])"
      ]
     },
     "execution_count": 14,
     "metadata": {},
     "output_type": "execute_result"
    }
   ],
   "source": [
    "ts_b = params / se_b\n",
    "ts_b"
   ]
  },
  {
   "cell_type": "markdown",
   "metadata": {},
   "source": [
    "#### (9) p-value 구하기"
   ]
  },
  {
   "cell_type": "code",
   "execution_count": 15,
   "metadata": {},
   "outputs": [
    {
     "data": {
      "text/plain": [
       "[0.0, 0.7084079152880327, 0.026597717787692154, 0.06743585337091651]"
      ]
     },
     "execution_count": 15,
     "metadata": {},
     "output_type": "execute_result"
    }
   ],
   "source": [
    "p_values = [2*(1-t.cdf(np.abs(i),(len(designX)-len(designX.iloc[0])))) for i in ts_b]\n",
    "p_values"
   ]
  },
  {
   "cell_type": "markdown",
   "metadata": {},
   "source": [
    "### [2] VIF 구하기"
   ]
  },
  {
   "cell_type": "code",
   "execution_count": 16,
   "metadata": {},
   "outputs": [
    {
     "data": {
      "text/plain": [
       "[338.76030542544714, 500.757055790855, 263.01505845905143]"
      ]
     },
     "execution_count": 16,
     "metadata": {},
     "output_type": "execute_result"
    }
   ],
   "source": [
    "vif = []\n",
    "\n",
    "for i, v in enumerate(xnames):\n",
    "    j = list(origin.columns).index(v)\n",
    "    vif.append(variance_inflation_factor(origin, j))\n",
    "\n",
    "vif"
   ]
  },
  {
   "cell_type": "markdown",
   "metadata": {},
   "source": [
    "### [3] 표준화 계수(베타) 구하기\n",
    "\n",
    "독립변수와 종속변수를 표준화 한 후 머신러닝을 수행한 경우에 대한 계수값"
   ]
  },
  {
   "cell_type": "code",
   "execution_count": 17,
   "metadata": {},
   "outputs": [
    {
     "data": {
      "text/html": [
       "<div>\n",
       "<style scoped>\n",
       "    .dataframe tbody tr th:only-of-type {\n",
       "        vertical-align: middle;\n",
       "    }\n",
       "\n",
       "    .dataframe tbody tr th {\n",
       "        vertical-align: top;\n",
       "    }\n",
       "\n",
       "    .dataframe thead th {\n",
       "        text-align: right;\n",
       "    }\n",
       "</style>\n",
       "<table border=\"1\" class=\"dataframe\">\n",
       "  <thead>\n",
       "    <tr style=\"text-align: right;\">\n",
       "      <th></th>\n",
       "      <th>길이</th>\n",
       "      <th>높이</th>\n",
       "      <th>두께</th>\n",
       "      <th>무게</th>\n",
       "    </tr>\n",
       "  </thead>\n",
       "  <tbody>\n",
       "    <tr>\n",
       "      <th>0</th>\n",
       "      <td>-2.180225</td>\n",
       "      <td>-2.016507</td>\n",
       "      <td>-1.896175</td>\n",
       "      <td>-1.092422</td>\n",
       "    </tr>\n",
       "    <tr>\n",
       "      <th>1</th>\n",
       "      <td>-1.587434</td>\n",
       "      <td>-1.518703</td>\n",
       "      <td>-1.560774</td>\n",
       "      <td>-1.016660</td>\n",
       "    </tr>\n",
       "    <tr>\n",
       "      <th>2</th>\n",
       "      <td>-1.442032</td>\n",
       "      <td>-1.417039</td>\n",
       "      <td>-1.316328</td>\n",
       "      <td>-0.993438</td>\n",
       "    </tr>\n",
       "    <tr>\n",
       "      <th>3</th>\n",
       "      <td>-1.307815</td>\n",
       "      <td>-1.147103</td>\n",
       "      <td>-1.202633</td>\n",
       "      <td>-0.960056</td>\n",
       "    </tr>\n",
       "    <tr>\n",
       "      <th>4</th>\n",
       "      <td>-1.173599</td>\n",
       "      <td>-1.147103</td>\n",
       "      <td>-1.026405</td>\n",
       "      <td>-0.906355</td>\n",
       "    </tr>\n",
       "  </tbody>\n",
       "</table>\n",
       "</div>"
      ],
      "text/plain": [
       "         길이        높이        두께        무게\n",
       "0 -2.180225 -2.016507 -1.896175 -1.092422\n",
       "1 -1.587434 -1.518703 -1.560774 -1.016660\n",
       "2 -1.442032 -1.417039 -1.316328 -0.993438\n",
       "3 -1.307815 -1.147103 -1.202633 -0.960056\n",
       "4 -1.173599 -1.147103 -1.026405 -0.906355"
      ]
     },
     "execution_count": 17,
     "metadata": {},
     "output_type": "execute_result"
    }
   ],
   "source": [
    "scaler = StandardScaler()\n",
    "std = scaler.fit_transform(origin)\n",
    "std_df = DataFrame(std, columns=origin.columns)\n",
    "std_df.head()"
   ]
  },
  {
   "cell_type": "code",
   "execution_count": 18,
   "metadata": {},
   "outputs": [
    {
     "data": {
      "text/plain": [
       "0.075477908125361"
      ]
     },
     "execution_count": 18,
     "metadata": {},
     "output_type": "execute_result"
    }
   ],
   "source": [
    "std_x = std_df[xnames]\n",
    "std_y = std_df[yname]\n",
    "std_model = LinearRegression()\n",
    "std_fit = std_model.fit(std_x, std_y)\n",
    "beta = std_fit.coef_[0]\n",
    "beta"
   ]
  },
  {
   "cell_type": "markdown",
   "metadata": {},
   "source": [
    "### [4] 결과표 구성하기"
   ]
  },
  {
   "cell_type": "code",
   "execution_count": 19,
   "metadata": {},
   "outputs": [
    {
     "data": {
      "text/html": [
       "<div>\n",
       "<style scoped>\n",
       "    .dataframe tbody tr th:only-of-type {\n",
       "        vertical-align: middle;\n",
       "    }\n",
       "\n",
       "    .dataframe tbody tr th {\n",
       "        vertical-align: top;\n",
       "    }\n",
       "\n",
       "    .dataframe thead th {\n",
       "        text-align: right;\n",
       "    }\n",
       "</style>\n",
       "<table border=\"1\" class=\"dataframe\">\n",
       "  <thead>\n",
       "    <tr style=\"text-align: right;\">\n",
       "      <th></th>\n",
       "      <th>종속변수</th>\n",
       "      <th>독립변수</th>\n",
       "      <th>B(비표준화 계수)</th>\n",
       "      <th>표준오차</th>\n",
       "      <th>β(표준화 계수)</th>\n",
       "      <th>t</th>\n",
       "      <th>유의확률</th>\n",
       "      <th>VIF</th>\n",
       "    </tr>\n",
       "  </thead>\n",
       "  <tbody>\n",
       "    <tr>\n",
       "      <th>0</th>\n",
       "      <td>무게</td>\n",
       "      <td>길이</td>\n",
       "      <td>2.9083</td>\n",
       "      <td>7.734</td>\n",
       "      <td>0.0755</td>\n",
       "      <td>0.3761</td>\n",
       "      <td>0.708</td>\n",
       "      <td>338.760305</td>\n",
       "    </tr>\n",
       "    <tr>\n",
       "      <th>1</th>\n",
       "      <td>무게</td>\n",
       "      <td>높이</td>\n",
       "      <td>67.2047</td>\n",
       "      <td>29.447</td>\n",
       "      <td>0.0755</td>\n",
       "      <td>2.2822</td>\n",
       "      <td>0.027</td>\n",
       "      <td>500.757056</td>\n",
       "    </tr>\n",
       "    <tr>\n",
       "      <th>2</th>\n",
       "      <td>무게</td>\n",
       "      <td>두께</td>\n",
       "      <td>67.2603</td>\n",
       "      <td>36.011</td>\n",
       "      <td>0.0755</td>\n",
       "      <td>1.8678</td>\n",
       "      <td>0.067</td>\n",
       "      <td>263.015058</td>\n",
       "    </tr>\n",
       "  </tbody>\n",
       "</table>\n",
       "</div>"
      ],
      "text/plain": [
       "  종속변수 독립변수  B(비표준화 계수)    표준오차  β(표준화 계수)       t   유의확률         VIF\n",
       "0   무게   길이      2.9083   7.734     0.0755  0.3761  0.708  338.760305\n",
       "1   무게   높이     67.2047  29.447     0.0755  2.2822  0.027  500.757056\n",
       "2   무게   두께     67.2603  36.011     0.0755  1.8678  0.067  263.015058"
      ]
     },
     "execution_count": 19,
     "metadata": {},
     "output_type": "execute_result"
    }
   ],
   "source": [
    "result_df = DataFrame({\n",
    "    \"종속변수\": [yname] * len(xnames),\n",
    "    \"독립변수\": xnames,\n",
    "    \"B(비표준화 계수)\": np.round(params[1:], 4),\n",
    "    \"표준오차\": np.round(se_b[1:], 3),\n",
    "    \"β(표준화 계수)\": np.round(beta, 4),\n",
    "    \"t\": np.round(ts_b[1:], 4),\n",
    "    \"유의확률\": np.round(p_values[1:], 3),\n",
    "    \"VIF\": vif,\n",
    "})\n",
    "\n",
    "result_df"
   ]
  },
  {
   "cell_type": "markdown",
   "metadata": {},
   "source": [
    "### [5] 분석 결과 보고"
   ]
  },
  {
   "cell_type": "markdown",
   "metadata": {},
   "source": [
    "#### (1) 잔차 구하기\n",
    "\n",
    "$관측치 - 추정치$"
   ]
  },
  {
   "cell_type": "code",
   "execution_count": 20,
   "metadata": {},
   "outputs": [
    {
     "data": {
      "text/plain": [
       "0    291.271380\n",
       "1    166.843295\n",
       "2    122.651252\n",
       "3     65.461649\n",
       "4     59.621032\n",
       "Name: 무게, dtype: float64"
      ]
     },
     "execution_count": 20,
     "metadata": {},
     "output_type": "execute_result"
    }
   ],
   "source": [
    "y_pred = fit.predict(x)\n",
    "\n",
    "# 잔차 계산\n",
    "resid = y - y_pred\n",
    "resid[:5]"
   ]
  },
  {
   "cell_type": "markdown",
   "metadata": {},
   "source": [
    "#### (2) durbin_watson 구하기"
   ]
  },
  {
   "cell_type": "code",
   "execution_count": 21,
   "metadata": {},
   "outputs": [
    {
     "data": {
      "text/plain": [
       "0.4848900475687653"
      ]
     },
     "execution_count": 21,
     "metadata": {},
     "output_type": "execute_result"
    }
   ],
   "source": [
    "dw = durbin_watson(resid)\n",
    "dw"
   ]
  },
  {
   "cell_type": "markdown",
   "metadata": {},
   "source": [
    "#### (3) 설명력($R^2$)"
   ]
  },
  {
   "cell_type": "code",
   "execution_count": 22,
   "metadata": {},
   "outputs": [
    {
     "data": {
      "text/plain": [
       "0.9423026213750791"
      ]
     },
     "execution_count": 22,
     "metadata": {},
     "output_type": "execute_result"
    }
   ],
   "source": [
    "r2 = r2_score(y, y_pred)\n",
    "r2"
   ]
  },
  {
   "cell_type": "markdown",
   "metadata": {},
   "source": [
    "#### (4) 보정된 $R^2$"
   ]
  },
  {
   "cell_type": "code",
   "execution_count": 23,
   "metadata": {},
   "outputs": [
    {
     "data": {
      "text/plain": [
       "56"
      ]
     },
     "execution_count": 23,
     "metadata": {},
     "output_type": "execute_result"
    }
   ],
   "source": [
    "# 표본수\n",
    "rowcount = len(origin)\n",
    "rowcount"
   ]
  },
  {
   "cell_type": "code",
   "execution_count": 26,
   "metadata": {},
   "outputs": [
    {
     "data": {
      "text/plain": [
       "3"
      ]
     },
     "execution_count": 26,
     "metadata": {},
     "output_type": "execute_result"
    }
   ],
   "source": [
    "# 독립변수의 수\n",
    "featurecount = len(xnames)\n",
    "featurecount"
   ]
  },
  {
   "cell_type": "code",
   "execution_count": 27,
   "metadata": {},
   "outputs": [
    {
     "data": {
      "text/plain": [
       "0.9389739264544106"
      ]
     },
     "execution_count": 27,
     "metadata": {},
     "output_type": "execute_result"
    }
   ],
   "source": [
    "adj_r2 = 1 - (1 - r2) * (rowcount-1) / (rowcount-featurecount-1)\n",
    "adj_r2"
   ]
  },
  {
   "cell_type": "markdown",
   "metadata": {},
   "source": [
    "#### (5) 모델에 대한 F-통계량과 확률 값 계산"
   ]
  },
  {
   "cell_type": "code",
   "execution_count": 28,
   "metadata": {},
   "outputs": [
    {
     "name": "stdout",
     "output_type": "stream",
     "text": [
      "F-statistic: 283.08\n",
      "p-value: 1.11e-16\n"
     ]
    }
   ],
   "source": [
    "# F-statistic\n",
    "f_statistic = (r2 / featurecount) / ((1 - r2) / (rowcount - featurecount - 1))\n",
    "\n",
    "# Prob (F-statistic)\n",
    "p = 1 - f.cdf(f_statistic, featurecount, rowcount - featurecount - 1)\n",
    "\n",
    "print(f\"F-statistic: {f_statistic:.2f}\")\n",
    "print(f\"p-value: {p:.4g}\")"
   ]
  },
  {
   "cell_type": "markdown",
   "metadata": {},
   "source": [
    "#### (6) 결과보고 문자열"
   ]
  },
  {
   "cell_type": "code",
   "execution_count": 29,
   "metadata": {},
   "outputs": [
    {
     "data": {
      "text/plain": [
       "'𝑅^2(0.942), Adj.𝑅^2(0.939), 𝐹(283.085), P-value(1.11e-16), Durbin-Watson(0.485)'"
      ]
     },
     "execution_count": 29,
     "metadata": {},
     "output_type": "execute_result"
    }
   ],
   "source": [
    "tpl = \"𝑅^2(%.3f), Adj.𝑅^2(%.3f), 𝐹(%.3f), P-value(%.4g), Durbin-Watson(%.3f)\"\n",
    "tpl % (r2, adj_r2, f_statistic, p, dw)"
   ]
  },
  {
   "cell_type": "code",
   "execution_count": 30,
   "metadata": {},
   "outputs": [
    {
     "data": {
      "text/plain": [
       "'무게에 대하여 길이,높이,두께로 예측하는 회귀분석을 실시한 결과, 이 회귀모형은 통계적으로 유의하다(F(3,52) = 283.085, p <= 0.05).'"
      ]
     },
     "execution_count": 30,
     "metadata": {},
     "output_type": "execute_result"
    }
   ],
   "source": [
    "tpl = \"%s에 대하여 %s로 예측하는 회귀분석을 실시한 결과, 이 회귀모형은 통계적으로 %s(F(%s,%s) = %0.3f, p %s 0.05).\"\n",
    "\n",
    "tpl % (\n",
    "    yname,\n",
    "    \",\".join(xnames),\n",
    "    \"유의하다\" if p <= 0.05 else \"유의하지 않다\",\n",
    "    len(x.columns),\n",
    "    len(x.index)-len(x.columns)-1,\n",
    "    f_statistic,\n",
    "    \"<=\" if p <= 0.05 else \">\")"
   ]
  },
  {
   "cell_type": "markdown",
   "metadata": {},
   "source": [
    "### [6] 독립변수 보고"
   ]
  },
  {
   "cell_type": "code",
   "execution_count": 31,
   "metadata": {},
   "outputs": [
    {
     "data": {
      "text/plain": [
       "['길이의 회귀계수는 2.908(p > 0.05)로, 무게에 대하여 유의하지 않은 예측변인인 것으로 나타났다.',\n",
       " '높이의 회귀계수는 67.205(p <= 0.05)로, 무게에 대하여 유의미한 예측변인인 것으로 나타났다.',\n",
       " '두께의 회귀계수는 67.260(p > 0.05)로, 무게에 대하여 유의하지 않은 예측변인인 것으로 나타났다.']"
      ]
     },
     "execution_count": 31,
     "metadata": {},
     "output_type": "execute_result"
    }
   ],
   "source": [
    "varstr = []\n",
    "\n",
    "for n in xnames:\n",
    "    item = result_df[result_df['독립변수'] == n]\n",
    "    coef = float(item['B(비표준화 계수)'].values[0])\n",
    "    pvalue = float(item['유의확률'].values[0])\n",
    "\n",
    "    s = \"%s의 회귀계수는 %0.3f(p %s 0.05)로, %s에 대하여 %s.\"\n",
    "    k = s % (n,\n",
    "             coef,\n",
    "             \"<=\" if pvalue <= 0.05 else '>',\n",
    "             yname,\n",
    "             '유의미한 예측변인인 것으로 나타났다' if pvalue <= 0.05 else '유의하지 않은 예측변인인 것으로 나타났다'\n",
    "    )\n",
    "\n",
    "    varstr.append(k)\n",
    "\n",
    "varstr"
   ]
  },
  {
   "cell_type": "markdown",
   "metadata": {},
   "source": [
    "## #05. 결과보고 일괄처리"
   ]
  },
  {
   "cell_type": "code",
   "execution_count": 32,
   "metadata": {},
   "outputs": [
    {
     "name": "stdout",
     "output_type": "stream",
     "text": [
      "+----+------------+------------+--------------------+------------+------------------+-------+------------+---------+\n",
      "|    | 종속변수   | 독립변수   |   B(비표준화 계수) |   표준오차 |   β(표준화 계수) |     t |   유의확률 |     VIF |\n",
      "|----+------------+------------+--------------------+------------+------------------+-------+------------+---------|\n",
      "|  0 | 무게       | 길이       |             2.9083 |      7.734 |            0.075 | 0.376 |      0.708 | 230.196 |\n",
      "|  1 | 무게       | 높이       |            67.2047 |     29.447 |            0.556 | 2.282 |      0.027 | 413.582 |\n",
      "|  2 | 무게       | 두께       |            67.2603 |     36.011 |            0.343 | 1.868 |      0.067 | 247.585 |\n",
      "+----+------------+------------+--------------------+------------+------------------+-------+------------+---------+\n",
      "\n",
      "𝑅^2(0.942), Adj.𝑅^2(0.939), F(283.085), P-value(1.11e-16), Durbin-Watson(0.485)\n",
      "\n",
      "무게에 대하여 길이,높이,두께로 예측하는 회귀분석을 실시한 결과, 이 회귀모형은 통계적으로 유의하다(F(3,52) = 283.085, p <= 0.05).\n",
      "\n",
      "길이의 회귀계수는 2.908(p > 0.05)로, 무게에 대하여 유의하지 않은 예측변인인 것으로 나타났다.\n",
      "높이의 회귀계수는 67.205(p <= 0.05)로, 무게에 대하여 유의미한 예측변인인 것으로 나타났다.\n",
      "두께의 회귀계수는 67.260(p > 0.05)로, 무게에 대하여 유의하지 않은 예측변인인 것으로 나타났다.\n"
     ]
    }
   ],
   "source": [
    "target_x = x.copy()\n",
    "target_y = y.copy()\n",
    "target_y_pred = fit.predict(target_x)\n",
    "resid = target_y - target_y_pred\n",
    "\n",
    "# 절편과 계수를 하나의 배열로 결합\n",
    "params = np.append(fit.intercept_, fit.coef_)\n",
    "\n",
    "# 검증용 독립변수에 상수항 추가\n",
    "design_x = target_x.copy()\n",
    "design_x.insert(0, '상수', 1)\n",
    "\n",
    "dot = np.dot(design_x.T,design_x)   # 행렬곱\n",
    "inv = np.linalg.inv(dot)            # 역행렬\n",
    "dia = inv.diagonal()                # 대각원소\n",
    "\n",
    "# 제곱오차\n",
    "MSE = (sum((target_y-target_y_pred)**2)) / (len(design_x)-len(design_x.iloc[0]))\n",
    "\n",
    "se_b = np.sqrt(MSE * dia)           # 표준오차\n",
    "ts_b = params / se_b                # t값\n",
    "\n",
    "# 각 독립수에 대한 pvalue\n",
    "p_values = [2*(1-t.cdf(np.abs(i),(len(design_x)-len(design_x.iloc[0])))) for i in ts_b]\n",
    "\n",
    "# VIF\n",
    "vif = [variance_inflation_factor(target_x, list(target_x.columns).index(v)) for i, v in enumerate(target_x.columns)]\n",
    "\n",
    "# 표준화 계수\n",
    "train_df = target_x.copy()\n",
    "train_df[target_y.name] = target_y\n",
    "scaler = StandardScaler()\n",
    "std = scaler.fit_transform(train_df)\n",
    "std_df = DataFrame(std, columns=train_df.columns)\n",
    "std_x = std_df[xnames]\n",
    "std_y = std_df[yname]\n",
    "std_model = LinearRegression()\n",
    "std_fit = std_model.fit(std_x, std_y)\n",
    "beta = std_fit.coef_\n",
    "\n",
    "# 결과표 구성하기\n",
    "result_df = DataFrame({\n",
    "    \"종속변수\": [yname] * len(xnames),\n",
    "    \"독립변수\": xnames,\n",
    "    \"B(비표준화 계수)\": np.round(params[1:], 4),\n",
    "    \"표준오차\": np.round(se_b[1:], 3),\n",
    "    \"β(표준화 계수)\": np.round(beta, 3),\n",
    "    \"t\": np.round(ts_b[1:], 3),\n",
    "    \"유의확률\": np.round(p_values[1:], 3),\n",
    "    \"VIF\": vif,\n",
    "})\n",
    "\n",
    "#result_df\n",
    "print(tabulate(result_df, headers='keys', tablefmt='psql', showindex=True), end=\"\\n\\n\")\n",
    "\n",
    "resid = target_y - target_y_pred        # 잔차\n",
    "dw = durbin_watson(resid)               # 더빈 왓슨 통계량\n",
    "r2 = r2_score(target_y, target_y_pred)  # 결정계수(설명력)\n",
    "rowcount = len(target_x)                # 표본수\n",
    "featurecount = len(target_x.columns)    # 독립변수의 수\n",
    "\n",
    "# 보정된 결정계수\n",
    "adj_r2 = 1 - (1 - r2) * (rowcount-1) / (rowcount-featurecount-1)\n",
    "\n",
    "# f값\n",
    "f_statistic = (r2 / featurecount) / ((1 - r2) / (rowcount - featurecount - 1))\n",
    "\n",
    "# Prob (F-statistic)\n",
    "p = 1 - f.cdf(f_statistic, featurecount, rowcount - featurecount - 1)\n",
    "\n",
    "tpl = \"𝑅^2(%.3f), Adj.𝑅^2(%.3f), F(%.3f), P-value(%.4g), Durbin-Watson(%.3f)\"\n",
    "print(tpl % (r2, adj_r2, f_statistic, p, dw), end=\"\\n\\n\")\n",
    "\n",
    "# 결과보고\n",
    "tpl = \"%s에 대하여 %s로 예측하는 회귀분석을 실시한 결과, 이 회귀모형은 통계적으로 %s(F(%s,%s) = %0.3f, p %s 0.05).\"\n",
    "\n",
    "print(tpl % (\n",
    "    yname,\n",
    "    \",\".join(xnames),\n",
    "    \"유의하다\" if p <= 0.05 else \"유의하지 않다\",\n",
    "    len(target_x.columns),\n",
    "    len(target_x.index)-len(target_x.columns)-1,\n",
    "    f_statistic,\n",
    "    \"<=\" if p <= 0.05 else \">\"), end=\"\\n\\n\")\n",
    "\n",
    "# 독립변수 보고\n",
    "for n in xnames:\n",
    "    item = result_df[result_df['독립변수'] == n]\n",
    "    coef = item['B(비표준화 계수)'].values[0]\n",
    "    pvalue = item['유의확률'].values[0]\n",
    "\n",
    "    s = \"%s의 회귀계수는 %0.3f(p %s 0.05)로, %s에 대하여 %s.\"\n",
    "    k = s % (n,\n",
    "             coef,\n",
    "             \"<=\" if pvalue <= 0.05 else '>',\n",
    "             yname,\n",
    "             '유의미한 예측변인인 것으로 나타났다' if pvalue <= 0.05 else '유의하지 않은 예측변인인 것으로 나타났다'\n",
    "    )\n",
    "\n",
    "    print(k)"
   ]
  },
  {
   "cell_type": "markdown",
   "metadata": {},
   "source": [
    "## 참고자료(Reference)\n",
    "\n",
    "1) https://m.blog.naver.com/pmw9440/222482746927\n",
    "\n",
    "2) https://stackoverflow.com/questions/27928275/find-p-value-significance-in-scikit-learn-linearregression\n",
    "\n",
    "3) https://stats.stackexchange.com/questions/85943/how-to-derive-the-standard-error-of-linear-regression-coefficient\n",
    "\n",
    "4) https://calcworkshop.com/linear-regression/t-test/\n",
    "\n",
    "5) https://www.google.com/url?sa=i&url=http%3A%2F%2Fwww.few.vu.nl%2F~wvanwie%2FCourses%2FHighdimensionalDataAnalysis%2FWNvanWieringen_HDDA_Lecture234_RidgeRegression_20182019.pdf&psig=AOvVaw31slQKGfkCNf2PAa3VEIGC&ust=1630070470635000&source=images&cd=vfe&ved=0CAsQjRxqFwoTCIjJworkzvICFQAAAAAdAAAAABAR"
   ]
  }
 ],
 "metadata": {
  "kernelspec": {
   "display_name": "Python 3",
   "language": "python",
   "name": "python3"
  },
  "language_info": {
   "codemirror_mode": {
    "name": "ipython",
    "version": 3
   },
   "file_extension": ".py",
   "mimetype": "text/x-python",
   "name": "python",
   "nbconvert_exporter": "python",
   "pygments_lexer": "ipython3",
   "version": "3.11.7"
  }
 },
 "nbformat": 4,
 "nbformat_minor": 2
}

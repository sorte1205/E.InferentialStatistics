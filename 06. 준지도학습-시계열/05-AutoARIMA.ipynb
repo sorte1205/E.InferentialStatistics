{
 "cells": [
  {
   "cell_type": "markdown",
   "metadata": {},
   "source": [
    "> 결측치 처리할 때, 시계열 분석을 통해 예측하여 넣는 경우가 있다."
   ]
  },
  {
   "cell_type": "markdown",
   "metadata": {},
   "source": [
    "# Auto ARIMA\n",
    "\n",
    "## #01. 작업준비\n",
    "\n",
    "### [1] 패키지 가져오기\n",
    "\n",
    "`pmdarima` 패키지의 설치가 필요하다"
   ]
  },
  {
   "cell_type": "code",
   "execution_count": 1,
   "metadata": {},
   "outputs": [],
   "source": [
    "import warnings\n",
    "warnings.filterwarnings(action='ignore')\n",
    "\n",
    "from hossam.util import *\n",
    "from hossam.plot import *\n",
    "from hossam.timeserise import *\n",
    "\n",
    "from pmdarima.arima import auto_arima\n",
    "from matplotlib import pyplot as plt\n",
    "from matplotlib import dates\n",
    "import seaborn as sb"
   ]
  },
  {
   "cell_type": "markdown",
   "metadata": {},
   "source": [
    "### [2] 데이터 가져오기\n",
    "\n",
    "#### DateTimeIndex 형태로 설정"
   ]
  },
  {
   "cell_type": "code",
   "execution_count": null,
   "metadata": {},
   "outputs": [],
   "source": [
    "origin = my_read_excel(\"https://data.hossam.kr/tsdata/air_passengers.xlsx\", index_col=\"Month\", timeindex=True, info=False)"
   ]
  },
  {
   "cell_type": "markdown",
   "metadata": {},
   "source": [
    "#### DateTimeIndex 확인"
   ]
  },
  {
   "cell_type": "code",
   "execution_count": null,
   "metadata": {},
   "outputs": [],
   "source": [
    "origin.index"
   ]
  },
  {
   "cell_type": "markdown",
   "metadata": {},
   "source": [
    "## #02. 데이터 전처리\n",
    "\n",
    "### [1] 훈련, 검증 데이터 분리\n",
    "\n",
    "시계열 데이터 특성상 데이터가 순서대로 배치되어야 하므로 슬라이싱을 사용해야 한다."
   ]
  },
  {
   "cell_type": "code",
   "execution_count": null,
   "metadata": {},
   "outputs": [],
   "source": [
    "# 처음부터 70% 위치 전까지 분할\n",
    "train = origin[:int(0.7*len(origin))]\n",
    "my_pretty_table(train.head())\n",
    "\n",
    "# 70% 위치부터 끝까지 분할\n",
    "test = origin[int(0.7*len(origin)):]\n",
    "my_pretty_table(test.head())"
   ]
  },
  {
   "cell_type": "markdown",
   "metadata": {},
   "source": [
    "## #03. 분석 모형 구축\n",
    "\n",
    "시계열 데이터를 ARIMA 모델에 맞추려고 할 때 첫 번째 목표는 측정항목을 최적화하는 $ARIMA(p,d,q)(P,D,Q,s)$ 값을 찾는 것\n",
    "\n",
    "계절성을 의미하는 $s$값은 분석가가 판단하여 지정해야 한다.\n",
    "\n",
    "$(p,d,q)(P,D,Q)$값은 분석가가 최소값과 최대값을 지정한다.\n",
    "\n",
    "$s$ 값을 고정한 상태에서 `0`부터 $(p,d,q)(P,D,Q)$ 로 주어진 값의 범위 안에서 최적의 값을 검색한다.\n",
    "\n",
    "> 오래걸린다..."
   ]
  },
  {
   "cell_type": "code",
   "execution_count": null,
   "metadata": {},
   "outputs": [],
   "source": [
    "my_p = 3    # 적절히 넉넉히\n",
    "my_d = 2    # 차분 횟수 (검증한 결과를 활용)\n",
    "my_q = 3    # 적절히 넉넉히\n",
    "my_s = 12   # 계절성 주기 (분석가가 판단)\n",
    "\n",
    "model = auto_arima(\n",
    "    y        = train,          # 모델링하려는 시계열 데이터 또는 배열\n",
    "    start_p  = 0,              # p의 시작점\n",
    "    max_p    = my_p,           # p의 최대값\n",
    "    d        = my_d,           # 차분 횟수\n",
    "    start_q  = 0,              # q의 시작점\n",
    "    max_q    = my_q,           # q의 최대값\n",
    "    seasonal = True,           # 계절성 사용 여부\n",
    "    m        = my_s,           # 계절성 주기\n",
    "    start_P  = 0,              # P의 시작점\n",
    "    max_P    = my_p,           # P의 최대값\n",
    "    D        = my_d,           # 계절성 차분 횟수\n",
    "    start_Q  = 0,              # Q의 시작점\n",
    "    max_Q    = my_q,           # Q의 최대값\n",
    "    trace    = True            # 학습 과정 표시 여부\n",
    ")\n",
    "\n",
    "print(model.summary())"
   ]
  },
  {
   "cell_type": "markdown",
   "metadata": {},
   "source": [
    "## #04. 예상치 생성\n",
    "\n",
    "### [1] 검증데이터에 대한 예측치\n",
    "\n",
    "훈련데이터 이후 `n_periods`개의 예측치를 생성한다."
   ]
  },
  {
   "cell_type": "code",
   "execution_count": null,
   "metadata": {},
   "outputs": [],
   "source": [
    "pred = model.predict(n_periods=int(len(test))+12 )\n",
    "pred[:5]"
   ]
  },
  {
   "cell_type": "markdown",
   "metadata": {},
   "source": [
    "### [2] 관측치와 예상치 비교"
   ]
  },
  {
   "cell_type": "code",
   "execution_count": null,
   "metadata": {},
   "outputs": [],
   "source": [
    "fig = plt.figure(figsize=(20,8), dpi=100)\n",
    "ax = fig.gca()\n",
    "\n",
    "# 훈련데이터 - 앞 70%의 원본 데이터\n",
    "sb.lineplot(data=train, x=train.index, y='Passengers', label='Original(Train)', color='skyblue', ax=ax)\n",
    "\n",
    "# 검증데이터 - 뒤 30%의 원본 데이터\n",
    "sb.lineplot(data=test, x=test.index, y='Passengers', label='Original(Test)', color='blue', ax=ax)\n",
    "\n",
    "# 예측치 - 뒤 30% + 12단계에 대한 예측 데이터\n",
    "sb.lineplot(x=pred.index, y=pred.values, label='Predict(Test)', linestyle='--', color='red', ax=ax)\n",
    "\n",
    "ax.grid()\n",
    "ax.set_xlabel('Month')\n",
    "ax.set_ylabel('Passengers')\n",
    "\n",
    "# 그래프의 x축이 날짜로 구성되어 있을 경우 형식 지정\n",
    "monthyearFmt = dates.DateFormatter('%y.%m')\n",
    "ax.xaxis.set_major_formatter(monthyearFmt)\n",
    "\n",
    "plt.show()\n",
    "plt.close()"
   ]
  },
  {
   "cell_type": "markdown",
   "metadata": {},
   "source": [
    "## #05. 성능평가 - 잔차 플롯 검토"
   ]
  },
  {
   "cell_type": "code",
   "execution_count": null,
   "metadata": {},
   "outputs": [],
   "source": [
    "model.plot_diagnostics(figsize=(15, 10))\n",
    "plt.show()\n",
    "plt.close()"
   ]
  },
  {
   "cell_type": "markdown",
   "metadata": {},
   "source": [
    "- 왼쪽 상단: 잔차 오차는 평균 0을 중심으로 변동하고 균일한 분산을 갖는 것으로 보임\n",
    "- 오른쪽 상단: 밀도는 평균이 0인 정규 분포를 나타냄\n",
    "- 왼쪽 하단: 모든 점이 빨간색 선과 일치해야 함. 편차가 크면 분포가 왜곡되었음을 의미.\n",
    "- 오른쪽 아래: ACF 플롯\n",
    "\n",
    "> 전반적으로 잘 맞는것 같다!!!"
   ]
  }
 ],
 "metadata": {
  "kernelspec": {
   "display_name": "Python 3",
   "language": "python",
   "name": "python3"
  },
  "language_info": {
   "codemirror_mode": {
    "name": "ipython",
    "version": 3
   },
   "file_extension": ".py",
   "mimetype": "text/x-python",
   "name": "python",
   "nbconvert_exporter": "python",
   "pygments_lexer": "ipython3",
   "version": "3.11.7"
  }
 },
 "nbformat": 4,
 "nbformat_minor": 2
}

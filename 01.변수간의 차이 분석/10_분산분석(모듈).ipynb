{
 "cells": [
  {
   "cell_type": "markdown",
   "metadata": {},
   "source": [
    "# 분산분석 모듈화\n",
    "\n",
    "## #01. 준비작업\n",
    "\n",
    "### [1] 패키지 가져오기"
   ]
  },
  {
   "cell_type": "code",
   "execution_count": 4,
   "metadata": {},
   "outputs": [],
   "source": [
    "import sys\n",
    "import os\n",
    "work_path = os.path.abspath(os.path.join(os.getcwd(), \"../..\"))\n",
    "sys.path.append(work_path)\n",
    "\n",
    "from help_a.util import *\n",
    "from help_a.plot import *\n",
    "from help_a.analysis import *\n",
    "\n",
    "from pandas import melt"
   ]
  },
  {
   "cell_type": "markdown",
   "metadata": {},
   "source": [
    "## #01. 일원분산분석\n",
    "\n",
    "### [1] 데이터 가져오기"
   ]
  },
  {
   "cell_type": "code",
   "execution_count": 5,
   "metadata": {},
   "outputs": [
    {
     "name": "stdout",
     "output_type": "stream",
     "text": [
      "+----+----------+----------+\n",
      "|    |   store1 |   store2 |\n",
      "|----+----------+----------|\n",
      "|  0 |       34 |       63 |\n",
      "|  1 |       63 |       85 |\n",
      "|  2 |       57 |       75 |\n",
      "|  3 |       50 |       48 |\n",
      "|  4 |       37 |       58 |\n",
      "+----+----------+----------+\n"
     ]
    }
   ],
   "source": [
    "origin = my_read_excel(\"https://data.hossam.kr/mldata/store.xlsx\", info=False)\n",
    "my_pretty_table(origin.head())"
   ]
  },
  {
   "cell_type": "code",
   "execution_count": 6,
   "metadata": {},
   "outputs": [
    {
     "name": "stdout",
     "output_type": "stream",
     "text": [
      "+----+------------+---------+\n",
      "|    | variable   |   value |\n",
      "|----+------------+---------|\n",
      "|  0 | store1     |      34 |\n",
      "|  1 | store1     |      63 |\n",
      "|  2 | store1     |      57 |\n",
      "|  3 | store1     |      50 |\n",
      "|  4 | store1     |      37 |\n",
      "+----+------------+---------+\n"
     ]
    }
   ],
   "source": [
    "df = melt(origin)\n",
    "my_pretty_table(df.head())"
   ]
  },
  {
   "cell_type": "markdown",
   "metadata": {},
   "source": [
    "### [2] 일원분산분석 수행"
   ]
  },
  {
   "cell_type": "code",
   "execution_count": 7,
   "metadata": {},
   "outputs": [
    {
     "name": "stdout",
     "output_type": "stream",
     "text": [
      "\n",
      "pingouin.welch_anova\n",
      "+----+----------+---------+---------+---------+-------------+----------+\n",
      "|    | Source   |   ddof1 |   ddof2 |       F |       p-unc |      np2 |\n",
      "|----+----------+---------+---------+---------+-------------+----------|\n",
      "|  0 | variable |       1 | 192.521 | 58.7175 | 8.69483e-13 | 0.228724 |\n",
      "+----+----------+---------+---------+---------+-------------+----------+\n"
     ]
    }
   ],
   "source": [
    "my_anova(df, \"value\", \"variable\", False)"
   ]
  },
  {
   "cell_type": "markdown",
   "metadata": {},
   "source": [
    "## #03. 이원분산분석\n",
    "\n",
    "### [1] 데이터 가져오기"
   ]
  },
  {
   "cell_type": "code",
   "execution_count": 8,
   "metadata": {},
   "outputs": [
    {
     "name": "stdout",
     "output_type": "stream",
     "text": [
      "+----+---------+-------+----------+\n",
      "|    | water   | sun   |   height |\n",
      "|----+---------+-------+----------|\n",
      "|  0 | daily   | low   |      4.9 |\n",
      "|  1 | daily   | low   |      7.9 |\n",
      "|  2 | daily   | low   |      3.9 |\n",
      "|  3 | daily   | low   |      5.1 |\n",
      "|  4 | daily   | low   |      5.2 |\n",
      "+----+---------+-------+----------+\n"
     ]
    }
   ],
   "source": [
    "origin = my_read_excel(\"https://data.hossam.kr/mldata/plant_growth.xlsx\", info=False)\n",
    "my_pretty_table(origin.head())"
   ]
  },
  {
   "cell_type": "markdown",
   "metadata": {},
   "source": [
    "### [2] 분산분석 수행"
   ]
  },
  {
   "cell_type": "code",
   "execution_count": 9,
   "metadata": {},
   "outputs": [
    {
     "name": "stdout",
     "output_type": "stream",
     "text": [
      "\n",
      "pingouin.anova\n",
      "+----+-------------+---------+------+----------+---------+-------------+----------+\n",
      "|    | Source      |      SS |   DF |       MS |       F |       p-unc |      np2 |\n",
      "|----+-------------+---------+------+----------+---------+-------------+----------|\n",
      "|  0 | water       | 122.816 |    1 |  122.816 | 130.529 | 1.30131e-20 | 0.533798 |\n",
      "|  1 | sun         | 103.292 |    2 |  51.6461 | 54.8894 | 2.01328e-17 | 0.490568 |\n",
      "|  2 | water * sun | 4.32717 |    2 |  2.16358 | 2.29945 |    0.104949 | 0.038777 |\n",
      "|  3 | Residual    | 107.264 |  114 | 0.940912 |     nan |         nan |      nan |\n",
      "+----+-------------+---------+------+----------+---------+-------------+----------+\n",
      "statsmodels.anova.anova_lm\n",
      "+-----------------+----------+------+---------+-------------+\n",
      "|                 |   sum_sq |   df |       F |      PR(>F) |\n",
      "|-----------------+----------+------+---------+-------------|\n",
      "| C(water)        |  122.816 |    1 | 130.529 | 1.30131e-20 |\n",
      "| C(sun)          |  103.292 |    2 | 54.8894 | 2.01328e-17 |\n",
      "| C(water):C(sun) |  4.32717 |    2 | 2.29945 |    0.104949 |\n",
      "| Residual        |  107.264 |  114 |     nan |         nan |\n",
      "+-----------------+----------+------+---------+-------------+\n",
      "\n",
      "[anova_lm] statistic: 130.529, p-value: 0.000, 대립가설 채택\n"
     ]
    }
   ],
   "source": [
    "my_anova(origin, \"height\", ['water', 'sun'])"
   ]
  }
 ],
 "metadata": {
  "kernelspec": {
   "display_name": "Python 3",
   "language": "python",
   "name": "python3"
  },
  "language_info": {
   "codemirror_mode": {
    "name": "ipython",
    "version": 3
   },
   "file_extension": ".py",
   "mimetype": "text/x-python",
   "name": "python",
   "nbconvert_exporter": "python",
   "pygments_lexer": "ipython3",
   "version": "3.11.7"
  }
 },
 "nbformat": 4,
 "nbformat_minor": 2
}

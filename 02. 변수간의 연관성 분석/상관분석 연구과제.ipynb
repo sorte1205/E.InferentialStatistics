{
 "cells": [
  {
   "cell_type": "markdown",
   "metadata": {},
   "source": [
    "# 상관분석 연구과제\n",
    "\n",
    "> 아래 문제의 모든 데이터셋은 정규성과 등분산성을 충족한다고 가정한다.\n",
    "\n",
    "## 문제 1\n",
    "\n",
    "다음 자료는 야구팀의 홈런수와 타율에 관한 자료이다. 홈런수와 평균타율이 상관관계가 있는지 그 관련성을 분석하라.\n",
    "\n",
    "![](res/q01.png)\n",
    "\n",
    "> https://data.hossam.kr/mldata/baseball.xlsx\n",
    "\n"
   ]
  },
  {
   "cell_type": "code",
   "execution_count": 7,
   "metadata": {},
   "outputs": [],
   "source": [
    "import warnings\n",
    "warnings.filterwarnings(action='ignore')\n",
    "\n",
    "import sys\n",
    "import seaborn as sb\n",
    "from math import sqrt\n",
    "from matplotlib import pyplot as plt\n",
    "from pandas import read_excel, melt\n",
    "from scipy.stats import t, normaltest, bartlett, levene, f_oneway, ttest_ind, shapiro, pearsonr\n",
    "from pandas import pivot_table\n",
    "\n",
    "# 분산분석을 위한 라이브러리\n",
    "from statsmodels.formula.api import ols\n",
    "from statsmodels.stats.anova import anova_lm\n",
    "from statsmodels.stats.oneway import anova_oneway # 등분산이 아닐 때: welch 검정\n",
    "\n",
    "# 사후검정을 위한 라이브러리\n",
    "from statsmodels.sandbox.stats.multicomp import MultiComparison\n",
    "from statsmodels.stats.multicomp import pairwise_tukeyhsd\n",
    "from pingouin import anova, welch_anova, pairwise_gameshowell, pairwise_tukey"
   ]
  },
  {
   "cell_type": "code",
   "execution_count": 3,
   "metadata": {},
   "outputs": [
    {
     "data": {
      "text/html": [
       "<div>\n",
       "<style scoped>\n",
       "    .dataframe tbody tr th:only-of-type {\n",
       "        vertical-align: middle;\n",
       "    }\n",
       "\n",
       "    .dataframe tbody tr th {\n",
       "        vertical-align: top;\n",
       "    }\n",
       "\n",
       "    .dataframe thead th {\n",
       "        text-align: right;\n",
       "    }\n",
       "</style>\n",
       "<table border=\"1\" class=\"dataframe\">\n",
       "  <thead>\n",
       "    <tr style=\"text-align: right;\">\n",
       "      <th></th>\n",
       "      <th>홈런수</th>\n",
       "      <th>평균타율</th>\n",
       "    </tr>\n",
       "  </thead>\n",
       "  <tbody>\n",
       "    <tr>\n",
       "      <th>0</th>\n",
       "      <td>174</td>\n",
       "      <td>0.277</td>\n",
       "    </tr>\n",
       "    <tr>\n",
       "      <th>1</th>\n",
       "      <td>163</td>\n",
       "      <td>0.276</td>\n",
       "    </tr>\n",
       "    <tr>\n",
       "      <th>2</th>\n",
       "      <td>161</td>\n",
       "      <td>0.272</td>\n",
       "    </tr>\n",
       "    <tr>\n",
       "      <th>3</th>\n",
       "      <td>230</td>\n",
       "      <td>0.272</td>\n",
       "    </tr>\n",
       "    <tr>\n",
       "      <th>4</th>\n",
       "      <td>214</td>\n",
       "      <td>0.269</td>\n",
       "    </tr>\n",
       "  </tbody>\n",
       "</table>\n",
       "</div>"
      ],
      "text/plain": [
       "   홈런수   평균타율\n",
       "0  174  0.277\n",
       "1  163  0.276\n",
       "2  161  0.272\n",
       "3  230  0.272\n",
       "4  214  0.269"
      ]
     },
     "execution_count": 3,
     "metadata": {},
     "output_type": "execute_result"
    }
   ],
   "source": [
    "origin = read_excel(\"https://data.hossam.kr/mldata/baseball.xlsx\")\n",
    "origin.head()"
   ]
  },
  {
   "cell_type": "code",
   "execution_count": 5,
   "metadata": {},
   "outputs": [
    {
     "data": {
      "text/html": [
       "<div>\n",
       "<style scoped>\n",
       "    .dataframe tbody tr th:only-of-type {\n",
       "        vertical-align: middle;\n",
       "    }\n",
       "\n",
       "    .dataframe tbody tr th {\n",
       "        vertical-align: top;\n",
       "    }\n",
       "\n",
       "    .dataframe thead th {\n",
       "        text-align: right;\n",
       "    }\n",
       "</style>\n",
       "<table border=\"1\" class=\"dataframe\">\n",
       "  <thead>\n",
       "    <tr style=\"text-align: right;\">\n",
       "      <th></th>\n",
       "      <th>홈런수</th>\n",
       "      <th>평균타율</th>\n",
       "    </tr>\n",
       "  </thead>\n",
       "  <tbody>\n",
       "    <tr>\n",
       "      <th>홈런수</th>\n",
       "      <td>1.000000</td>\n",
       "      <td>-0.074695</td>\n",
       "    </tr>\n",
       "    <tr>\n",
       "      <th>평균타율</th>\n",
       "      <td>-0.074695</td>\n",
       "      <td>1.000000</td>\n",
       "    </tr>\n",
       "  </tbody>\n",
       "</table>\n",
       "</div>"
      ],
      "text/plain": [
       "           홈런수      평균타율\n",
       "홈런수   1.000000 -0.074695\n",
       "평균타율 -0.074695  1.000000"
      ]
     },
     "execution_count": 5,
     "metadata": {},
     "output_type": "execute_result"
    }
   ],
   "source": [
    "corr = origin.corr(method = 'pearson')\n",
    "corr"
   ]
  },
  {
   "cell_type": "code",
   "execution_count": null,
   "metadata": {},
   "outputs": [],
   "source": []
  },
  {
   "cell_type": "markdown",
   "metadata": {},
   "source": [
    "## 문제 2\n",
    "\n",
    "어떤 원료의 품질특성($x$)과 이 원료를 사용하여 만든 제품의 품질특성($y$)에 관한 조사를 한 결과 다음 데이터를 얻었다.\n",
    "\n",
    "이들 간 상관관계를 구하고 상관 유무 검정을 유의수준 `5%`에서 실시하라.\n",
    "\n",
    "![](res/q02.png)\n",
    "\n",
    "> https://data.hossam.kr/mldata/product.xlsx\n"
   ]
  },
  {
   "cell_type": "markdown",
   "metadata": {},
   "source": [
    "\n",
    "## 문제 3\n",
    "\n",
    "다음은 학생들에 대한 공부 시간과 성적 데이터이다. 분석하라.\n",
    "\n",
    "![](res/q03.png)\n",
    "\n",
    "> https://data.hossam.kr/mldata/study_time.xlsx"
   ]
  }
 ],
 "metadata": {
  "kernelspec": {
   "display_name": "Python 3",
   "language": "python",
   "name": "python3"
  },
  "language_info": {
   "codemirror_mode": {
    "name": "ipython",
    "version": 3
   },
   "file_extension": ".py",
   "mimetype": "text/x-python",
   "name": "python",
   "nbconvert_exporter": "python",
   "pygments_lexer": "ipython3",
   "version": "3.11.7"
  }
 },
 "nbformat": 4,
 "nbformat_minor": 2
}
